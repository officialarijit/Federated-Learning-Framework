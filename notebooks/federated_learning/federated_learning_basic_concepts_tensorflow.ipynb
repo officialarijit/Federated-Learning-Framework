{
 "cells": [
  {
   "cell_type": "markdown",
   "metadata": {},
   "source": [
    "# Federated learning: using a TensorFlow model\n",
    "\n",
    "This notebook is a copy of the notebook [Federated learning basic concepts](./federated_learning_basic_concepts.ipynb). The difference is that, here, the model is built by defining a custom layer. However, apart from that, the structure is identical so the text has been removed for clearness. Please refer to the original notebook for the detailed description of the experiment. \n",
    "\n",
    "## The data"
   ]
  },
  {
   "cell_type": "code",
   "execution_count": null,
   "metadata": {},
   "outputs": [],
   "source": [
    "import shfl\n",
    "\n",
    "database = shfl.data_base.Emnist()\n",
    "train_data, train_labels, test_data, test_labels = database.load_data()\n",
    "\n",
    "print(len(train_data))\n",
    "print(len(test_data))\n",
    "print(type(train_data[0]))\n",
    "train_data[0].shape\n",
    "\n",
    "import matplotlib.pyplot as plt\n",
    "\n",
    "plt.imshow(train_data[0])\n",
    "\n",
    "iid_distribution = shfl.data_distribution.IidDataDistribution(database)\n",
    "federated_data, test_data, test_label = iid_distribution.get_federated_data(num_nodes=20, percent=10)\n",
    "\n",
    "print(type(federated_data))\n",
    "print(federated_data.num_nodes())\n",
    "federated_data[0].private_data"
   ]
  },
  {
   "cell_type": "markdown",
   "metadata": {},
   "source": [
    "## The model"
   ]
  },
  {
   "cell_type": "code",
   "execution_count": null,
   "metadata": {},
   "outputs": [],
   "source": [
    "import tensorflow as tf\n",
    "#If you want execute in GPU, you must uncomment this two lines.\n",
    "# physical_devices = tf.config.experimental.list_physical_devices('GPU')\n",
    "# tf.config.experimental.set_memory_growth(physical_devices[0], True)\n",
    "\n",
    "class CustomDense(tf.keras.layers.Layer):\n",
    "    \"\"\"\n",
    "    Implementation of Linear layer\n",
    "\n",
    "    Attributes\n",
    "    ----------\n",
    "    units : int\n",
    "        number of units for the output\n",
    "    w : matrix\n",
    "        Weights from the layer\n",
    "    b : array\n",
    "        Bias from the layer\n",
    "    \"\"\"\n",
    "\n",
    "    def __init__(self, units=32, **kwargs):\n",
    "        super(CustomDense, self).__init__(**kwargs)\n",
    "        self._units = units\n",
    "        \n",
    "    def get_config(self):\n",
    "        config = {'units': self._units}\n",
    "        base_config = super(CustomDense, self).get_config()\n",
    "\n",
    "        return dict(list(base_config.items()) + list(config.items()))\n",
    "\n",
    "    def build(self, input_shape):\n",
    "        \"\"\"\n",
    "        Method for build the params\n",
    "\n",
    "        Parameters\n",
    "        ----------\n",
    "        input_shape: list\n",
    "            size of inputs\n",
    "        \"\"\"\n",
    "        self._w = self.add_weight(shape=(input_shape[-1], self._units),\n",
    "                                  initializer='random_normal',\n",
    "                                  trainable=True)\n",
    "\n",
    "        self._b = self.add_weight(shape=(self._units,),\n",
    "                                  initializer='random_normal',\n",
    "                                  trainable=True)\n",
    "\n",
    "    def call(self, inputs):\n",
    "        \"\"\"\n",
    "        Apply linear layer\n",
    "\n",
    "        Parameters\n",
    "        ----------\n",
    "        inputs: matrix\n",
    "            Input data\n",
    "\n",
    "        Return\n",
    "        ------\n",
    "        result : matrix\n",
    "            the result of linear transformation of the data\n",
    "        \"\"\"\n",
    "        return tf.nn.bias_add(tf.matmul(inputs, self._w), self._b)\n",
    "\n",
    "\n",
    "def model_builder():\n",
    "    inputs = tf.keras.Input(shape=(28, 28, 1))\n",
    "    x = tf.keras.layers.Conv2D(32, kernel_size=(3, 3), padding='same', activation='relu', strides=1)(inputs)\n",
    "    x = tf.keras.layers.MaxPooling2D(pool_size=2, strides=2, padding='valid')(x)\n",
    "    x = tf.keras.layers.Dropout(0.4)(x)\n",
    "    x = tf.keras.layers.Conv2D(32, kernel_size=(3, 3), padding='same', activation='relu', strides=1)(x)\n",
    "    x = tf.keras.layers.MaxPooling2D(pool_size=2, strides=2, padding='valid')(x)\n",
    "    x = tf.keras.layers.Flatten()(x)\n",
    "    x = CustomDense(128)(x)\n",
    "    x = tf.nn.relu(x)\n",
    "    x = tf.keras.layers.Dropout(0.1)(x)\n",
    "    x = CustomDense(64)(x)\n",
    "    x = tf.nn.relu(x)\n",
    "    x = CustomDense(10)(x)\n",
    "    outputs = tf.nn.softmax(x)\n",
    "    \n",
    "    model = tf.keras.Model(inputs=inputs, outputs=outputs)\n",
    "\n",
    "    criterion = tf.keras.losses.CategoricalCrossentropy()\n",
    "    optimizer = tf.keras.optimizers.RMSprop()\n",
    "    metrics = [tf.keras.metrics.categorical_accuracy]\n",
    "    \n",
    "    return shfl.model.DeepLearningModel(model=model, criterion=criterion, optimizer=optimizer, metrics=metrics)"
   ]
  },
  {
   "cell_type": "code",
   "execution_count": null,
   "metadata": {},
   "outputs": [],
   "source": [
    "aggregator = shfl.federated_aggregator.FedAvgAggregator()\n",
    "federated_government = shfl.federated_government.FederatedGovernment(model_builder, federated_data, aggregator)"
   ]
  },
  {
   "cell_type": "code",
   "execution_count": null,
   "metadata": {},
   "outputs": [],
   "source": [
    "import numpy as np\n",
    "\n",
    "class Reshape(shfl.private.FederatedTransformation):\n",
    "    \n",
    "    def apply(self, labeled_data):\n",
    "        labeled_data.data = np.reshape(labeled_data.data, (labeled_data.data.shape[0], labeled_data.data.shape[1], labeled_data.data.shape[2],1))\n",
    "\n",
    "class CastFloat(shfl.private.FederatedTransformation):\n",
    "    \n",
    "    def apply(self, labeled_data):\n",
    "        labeled_data.data = labeled_data.data.astype(np.float32)\n",
    "        \n",
    "shfl.private.federated_operation.apply_federated_transformation(federated_data, Reshape())\n",
    "shfl.private.federated_operation.apply_federated_transformation(federated_data, CastFloat())"
   ]
  },
  {
   "cell_type": "markdown",
   "metadata": {},
   "source": [
    "## Run the federated learning experiment"
   ]
  },
  {
   "cell_type": "code",
   "execution_count": null,
   "metadata": {},
   "outputs": [],
   "source": [
    "test_data = np.reshape(test_data, (test_data.shape[0], test_data.shape[1], test_data.shape[2],1))\n",
    "test_data = test_data.astype(np.float32)\n",
    "federated_government.run_rounds(3, test_data, test_label)"
   ]
  }
 ],
 "metadata": {
  "kernelspec": {
   "display_name": "Python (pytorch)",
   "language": "python",
   "name": "pytorch"
  },
  "language_info": {
   "codemirror_mode": {
    "name": "ipython",
    "version": 3
   },
   "file_extension": ".py",
   "mimetype": "text/x-python",
   "name": "python",
   "nbconvert_exporter": "python",
   "pygments_lexer": "ipython3",
   "version": "3.7.9"
  },
  "pycharm": {
   "stem_cell": {
    "cell_type": "raw",
    "metadata": {
     "collapsed": false
    },
    "source": []
   }
  }
 },
 "nbformat": 4,
 "nbformat_minor": 4
}
