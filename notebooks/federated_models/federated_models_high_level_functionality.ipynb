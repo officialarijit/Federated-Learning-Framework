{
 "cells": [
  {
   "cell_type": "markdown",
   "metadata": {},
   "source": [
    "# Federated models: high level functionality\n",
    "\n",
    "In this notebook we show the high-level functionality of the framework. It implements some predefined federated learning (FL) scenarios to make it as easy as possible to use. Clearly, in this predefined simulation there are some parameters prefixed (e.g. the aggregation operator or the learning model). If you prefer to set up your own simulation scenario, please see [Federated learning basic concepts](../federated_learning/federated_learning_basic_concepts.ipynb) notebook, where you will find more detailed information.\n",
    "\n",
    "Specifically, we present the high-level function as follows:\n",
    "\n",
    "<tt> HighLevelFunction(data_base_name, iid=\"True\", num_nodes=20, percent=100) </tt>\n",
    "\n",
    "where *data_base_name* may be one of the fixed datasets for each task.\n",
    "\n",
    "The rest of the function params correspond to some changeable params:\n",
    "\n",
    "- *iid*: you can change between I.I.D (by default *iid=\"True\"*) or non-I.I.D (*iid=\"False\"*) data distributions. In both scenarios, data splitting between clients will be equitable (non weighted) and without replacement (for more information see notebook [Federated sampling](../federated_learning/federated_learning_sampling.ipynb)).\n",
    "- *num_nodes*: you can choose the number of clients for the simulation by changing the *num_nodes* parameter (by default 20).\n",
    "- *percent*: you decide the percentage of the database that you want to split across the clients by changing the *percent* parameter (by default 100, $percent\\in [0,100]$).\n",
    "\n",
    "Furthermore, you have the possibility of changing the number of rounds of learning that you want to train changing the *n* param (by default 5) of the function: \n",
    "\n",
    "<tt> run_rounds(n=5) </tt>\n",
    "\n",
    "## High-level image classifier\n",
    "\n",
    "For the moment, the databases which can be used are:\n",
    "\n",
    "- EMNIST: for the [Emnist](https://www.nist.gov/itl/products-and-services/emnist-dataset) Digits dataset. \n",
    "- FASHION_EMNIST: for the [Fashion EMNIST](https://github.com/zalandoresearch/fashion-mnist) database.\n",
    "\n",
    "In addition, as FL model we use a CNN-based neural network architecture based on two CNN layers and FedAvg as aggregation operator (see notebook [Federated learning aggregation operators](../federated_learning/federated_learning_basic_concepts_aggregation_operators.ipynb)).\n",
    "\n",
    "For more information about how to change some parameters or implementation details visit [federated_images_classifier.py](https://github.com/sherpaai/Sherpa.ai-Federated-Learning-Framework/blob/master/shfl/federated_government/federated_images_classifier.py)."
   ]
  },
  {
   "cell_type": "code",
   "execution_count": null,
   "metadata": {
    "pycharm": {
     "is_executing": false
    }
   },
   "outputs": [],
   "source": [
    "import shfl\n",
    "\n",
    "classifier = shfl.federated_government.FederatedImagesClassifier('EMNIST')\n",
    "classifier.run_rounds()"
   ]
  },
  {
   "cell_type": "markdown",
   "metadata": {},
   "source": [
    "## High-level clustering\n",
    "\n",
    "For the moment, the databases which can be used are:\n",
    "\n",
    "- IRIS: for the [Iris](https://archive.ics.uci.edu/ml/datasets/iris) dataset. \n",
    "\n",
    "In addition, as FL model we use [KMeans](https://scikit-learn.org/stable/modules/generated/sklearn.cluster.KMeans.html) from scikit-learn with the same number of clustering in each client and ClusterFedAvg as aggregation operator (see notebook [Federated learning aggregation operators](../federated_learning/federated_learning_basic_concepts_aggregation_operators.ipynb)).\n",
    "\n",
    "For more information about how to change some parameters or implementation details visit [federated_clustering.py](https://github.com/sherpaai/Sherpa.ai-Federated-Learning-Framework/blob/master/shfl/federated_government/federated_clustering.py)."
   ]
  },
  {
   "cell_type": "code",
   "execution_count": null,
   "metadata": {},
   "outputs": [],
   "source": [
    "clustering = shfl.federated_government.FederatedClustering('IRIS')\n",
    "clustering.run_rounds()"
   ]
  },
  {
   "cell_type": "markdown",
   "metadata": {},
   "source": [
    "## High-level linear regression\n",
    "\n",
    "For the moment, the databases which can be used are:\n",
    "\n",
    "- CALIFORNIA: for the [California Housing](https://www.kaggle.com/paraggurjar/california-house-price-simple-linear-regression) dataset. \n",
    "\n",
    "In addition, as FL model we use [LinearRegression](https://scikit-learn.org/stable/modules/generated/sklearn.linear_model.LinearRegression.html) from scikit-learn with the same number of clustering in each client and FedAvg as aggregation operator (see notebook [Federated learning aggregation operators](../federated_learning/federated_learning_basic_concepts_aggregation_operators.ipynb)).\n",
    "\n",
    "For more information about how to change some parameters or implementation details visit [federated_linear_regression.py](https://github.com/sherpaai/Sherpa.ai-Federated-Learning-Framework/blob/master/shfl/federated_government/federated_linear_regression.py)."
   ]
  },
  {
   "cell_type": "code",
   "execution_count": null,
   "metadata": {},
   "outputs": [],
   "source": [
    "linear_regression = shfl.federated_government.FederatedLinearRegression('CALIFORNIA')\n",
    "linear_regression.run_rounds()"
   ]
  }
 ],
 "metadata": {
  "kernelspec": {
   "display_name": "SherpaFL_py37",
   "language": "python",
   "name": "sherpafl_py37"
  },
  "language_info": {
   "codemirror_mode": {
    "name": "ipython",
    "version": 3
   },
   "file_extension": ".py",
   "mimetype": "text/x-python",
   "name": "python",
   "nbconvert_exporter": "python",
   "pygments_lexer": "ipython3",
   "version": "3.7.3"
  },
  "pycharm": {
   "stem_cell": {
    "cell_type": "raw",
    "metadata": {
     "collapsed": false
    },
    "source": []
   }
  }
 },
 "nbformat": 4,
 "nbformat_minor": 4
}
