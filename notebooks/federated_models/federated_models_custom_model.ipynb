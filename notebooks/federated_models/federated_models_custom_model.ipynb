{
 "cells": [
  {
   "cell_type": "markdown",
   "metadata": {},
   "source": [
    "# Federated models: encapsulate a custom model in Sherpa.ai Federated Learning and Differential Privacy Framework\n",
    "\n",
    "This notebook covers the problem of encapsulating a custom machine learning model into the Sherpa.ai Federated Learning and Differential Privacy Framework for experimentation in the federated configuration.\n",
    "In this case, we will create a learning model from scratch and show how to make it interact with the Sherpa.ai Federated Learning and Differential Privacy Framework. \n",
    "For the sake of simplicity, a two-feature case of linear regression is considered, since an explicit formula for the minimization of the object function is available (see the [Introduction to statistical learning](http://faculty.marshall.usc.edu/gareth-james/ISL/), Section 3.1).\n",
    "For completeness, we assess the accuracy in a federated learning context, and we address the privacy level needed, in terms of sampling the sensitivity of our model for application of Differential Privacy. \n",
    "For a more extensive use of differential privacy with federated learning, see the notebooks on [Linear Regression](./federated_models_linear_regression.ipynb) and [K-means Clustering](./federated_models_clustering_k_means.ipynb).\n",
    "Also, see the notebook on [Regression using Keras](./federated_models_regression_deeplearning.ipynb), where a neural network model is used to perform regression. \n",
    "\n",
    "In order to make our model interact with the framework, we will simply need to define:\n",
    "1. The data\n",
    "2. The model\n",
    "\n",
    "In the following, each step is described for the case of a 2D linear regression model. \n",
    "\n",
    "## The data\n",
    "A method that returns training, test, and validation data needs to be provided, wrapping it in the class `data_base`.\n",
    "Typically, existing data is used. \n",
    "However, in this example, a series of 2D points is created for simplicity:"
   ]
  },
  {
   "cell_type": "code",
   "execution_count": null,
   "metadata": {},
   "outputs": [],
   "source": [
    "import numpy as np\n",
    "import matplotlib.pyplot as plt\n",
    "import shfl\n",
    "from shfl.data_base.data_base import LabeledDatabase\n",
    "from shfl.private.reproducibility import Reproducibility\n",
    "\n",
    "# Comment to turn off reproducibility:\n",
    "Reproducibility(123)\n",
    "\n",
    "def generate_data():\n",
    "    size_data = 100\n",
    "    beta0 = 10\n",
    "    beta1 = 2\n",
    "    scale = 10\n",
    "\n",
    "    data = np.random.randint(low = 0, high=100, size=size_data, dtype='l')\n",
    "    labels = beta0 + beta1*data + np.random.normal(loc=0.0, scale=scale, size=len(data))\n",
    "    \n",
    "    return data, labels\n",
    "\n",
    "# Create database:\n",
    "data, labels = generate_data()\n",
    "database = LabeledDatabase(data, labels)\n",
    "train_data, train_labels, test_data, test_labels = database.load_data()\n",
    "print(len(train_data))\n",
    "print(len(test_data))"
   ]
  },
  {
   "cell_type": "markdown",
   "metadata": {},
   "source": [
    "## The model\n",
    "Now, we just need to define the model, which needs to be wrapped in the class `TrainableModel`. \n",
    "Abstract methods from class `TrainableModel` need to be defined, i.e., we must provide methods for `train`, `predict`, `evaluate`, `performance`, `get_parameters`, and `set_parameters`. \n",
    "For the `evaluate` method, we choose the Root Mean Squared and the Mean Absolute Percentage errors as performance metrics.\n",
    "A possible implementation is the following:"
   ]
  },
  {
   "cell_type": "code",
   "execution_count": null,
   "metadata": {},
   "outputs": [],
   "source": [
    "from shfl.model import TrainableModel\n",
    "\n",
    "class LinearRegression2D(TrainableModel):\n",
    "    \n",
    "    def __init__(self, beta0 = 0.0, beta1=0.0):\n",
    "        self._beta0 = beta0\n",
    "        self._beta1 = beta1\n",
    "        \n",
    "    def train(self, data, labels):\n",
    "        \"\"\"\n",
    "        In the case of 2D linear regression, a closed formula can be used.\n",
    "        \"\"\"\n",
    "        data_mean = np.mean(data)\n",
    "        labels_mean = np.mean(labels)\n",
    "        beta1 = np.sum( np.multiply((data-data_mean), (labels-labels_mean)) ) / np.sum( np.square((data-data_mean)) )\n",
    "        beta0 = labels_mean - beta1*data_mean\n",
    "        self._beta0 = beta0\n",
    "        self._beta1 = beta1\n",
    "        \n",
    "    def predict(self, data):\n",
    "        y_predicted = self._beta0 + self._beta1 * data\n",
    "        \n",
    "        return(y_predicted)\n",
    "    \n",
    "    def evaluate(self, data, labels):\n",
    "        \"\"\"\n",
    "        Add all the metrics to evaluate the performance here. \n",
    "        \"\"\"\n",
    "        prediction = self.predict(data)\n",
    "        error = np.square(labels - prediction)\n",
    "        RMSE = np.sqrt(error.mean())\n",
    "        MAPE = np.abs(np.divide(error, labels)).mean() \n",
    "        \n",
    "        return RMSE, MAPE \n",
    "    \n",
    "    def performance(self, data, labels):\n",
    "        \n",
    "        return self.evaluate(data, labels)[0]\n",
    "\n",
    "    def get_model_params(self):\n",
    "        return np.asarray((self._beta0, self._beta1))\n",
    "    \n",
    "    def set_model_params(self, params):\n",
    "        self._beta0 = params[0]\n",
    "        self._beta1 = params[1]"
   ]
  },
  {
   "cell_type": "markdown",
   "metadata": {},
   "source": [
    "We can graphically check that our implementation is correct by training the model on the centralized data:"
   ]
  },
  {
   "cell_type": "code",
   "execution_count": null,
   "metadata": {},
   "outputs": [],
   "source": [
    "# Plot the regression over the train data:\n",
    "LR = LinearRegression2D()\n",
    "LR.train(data = train_data, labels = train_labels)\n",
    "print(\"Regression coefficients: \" + str((LR._beta0, LR._beta1)))\n",
    "print(\"Performance metrics on test data: \" + str(LR.evaluate(data = test_data, labels = test_labels)))\n",
    "\n",
    "plt.style.use('fivethirtyeight')\n",
    "fig, ax = plt.subplots(figsize=(9,6))\n",
    "ax.plot(train_data, train_labels, 'bo', label = \"True\")\n",
    "ax.plot(train_data, LR.predict(data = train_data), label = \"Predicted\", color = \"red\")\n",
    "ax.set_xlabel('Data')\n",
    "ax.set_ylabel('Labels')\n",
    "plt.legend(title = \"\")\n",
    "label=\"Linear regression (red line) using the training set (blue points)\"\n",
    "ax.text((train_data.max()+train_data.min())/2, -60, label, ha='center')\n",
    "\n",
    "plt.show()"
   ]
  },
  {
   "cell_type": "markdown",
   "metadata": {},
   "source": [
    "## Run the federated learning experiment\n",
    "After defining the data and the model, we are ready to run our model in a federated configuration. \n",
    "We distribute the data over the nodes, assuming the data is IID.\n",
    "Next, we define the aggregation of the federated outputs to be the average. \n",
    "In this case, we set the number of rounds to `n=1`, since no iterations are needed in this specific case of 2D linear regression. \n",
    "It can be observed that the performance of the federated global model is generally superior, with respect to the performance of each node, thus, the federated learning approach proves to be beneficial.\n",
    "Moreover, the federated global model exhibits comparable performance to that of the centralized one (see the previous cell)."
   ]
  },
  {
   "cell_type": "code",
   "execution_count": null,
   "metadata": {},
   "outputs": [],
   "source": [
    "# Create the IID data: \n",
    "iid_distribution = shfl.data_distribution.IidDataDistribution(database)\n",
    "federated_data, test_data, test_label = iid_distribution.get_federated_data(num_nodes = 12, percent=100)\n",
    "print(type(federated_data))\n",
    "print(federated_data.num_nodes())\n",
    "\n",
    "# Define a model builder: \n",
    "def model_builder():\n",
    "    model = LinearRegression2D()\n",
    "    return model\n",
    "\n",
    "# Run the algorithm:\n",
    "aggregator = shfl.federated_aggregator.FedAvgAggregator()\n",
    "federated_government = shfl.federated_government.FederatedGovernment(model_builder, federated_data, aggregator)\n",
    "\n",
    "federated_government.run_rounds(n = 1, test_data = test_data, test_label = test_label)"
   ]
  },
  {
   "cell_type": "markdown",
   "metadata": {},
   "source": [
    "## Add differential privacy\n",
    "We wish to add Differential Privacy to our federated learning experiment, and assess its effect on the quality of the global model. In the following, it is shown how to perform that by easy steps using Sherpa.ai framework. As shown below, by selecting a sensitivity we are ready to run the private federated experiment using the desired differential privacy mechanism.\n",
    "\n",
    "### Model's sensitivity\n",
    "In the case of applying the Laplace privacy mechanism (see also: [Laplace Mechanism](../differential_privacy/differential_privacy_laplace.ipynb)), the noise added has to be of the same order as the sensitivity of the model's output (the values of the intercept and slope in our 2D linear regression). \n",
    "In the general case, the model's sensitivity might be difficult to compute analytically. \n",
    "An alternative approach is to attain random differential privacy through a sampling over the data (see [Rubinstein 2017](https://arxiv.org/pdf/1706.02562.pdf)). That is, instead of computing the global sensitivity $\\Delta f$ analytically, we compute an empirical estimation of it by sampling over the dataset.\n",
    "The framework provides a method for sampling the sensitivity (see the implementation [here](https://github.com/sherpaai/Sherpa.ai-Federated-Learning-Framework/blob/master/shfl/differential_privacy/sensitivity_sampler.py)).\n",
    "\n",
    "In order to carry out this approach, we need to specify a distribution of the data to sample from. \n",
    "Generally, this requires previous knowledge and/or model assumptions. \n",
    "However,  we may assume that the data distribution is uniform and avoid specific assumptions. \n",
    "We define our class of `ProbabilityDistribution` that uniformly samples over a data-frame.\n",
    "Moreover, we assume that we do have access to a set of data (this can be thought of, for example, as a public data set). \n",
    "In this example, we generate new data for sampling:"
   ]
  },
  {
   "cell_type": "code",
   "execution_count": null,
   "metadata": {},
   "outputs": [],
   "source": [
    "class UniformDistribution(shfl.differential_privacy.ProbabilityDistribution):\n",
    "    \"\"\"\n",
    "    Implement Uniform Distribution over real data\n",
    "    \"\"\"\n",
    "    def __init__(self, sample_data):\n",
    "        self._sample_data = sample_data\n",
    "\n",
    "    def sample(self, sample_size):\n",
    "        row_indices = np.random.randint(low = 0, \n",
    "                                        high=self._sample_data.shape[0], \n",
    "                                        size=sample_size, \n",
    "                                        dtype='l')\n",
    "        \n",
    "        return self._sample_data[row_indices, :]\n",
    "    \n",
    "# Generate new data for sampling: \n",
    "data, labels = generate_data()\n",
    "database = LabeledDatabase(data, labels)\n",
    "data_sample, labels_sample, _, _ = database.load_data()\n",
    "sample_data = np.zeros((len(data_sample), 2))\n",
    "sample_data[:,0] = data_sample\n",
    "sample_data[:,1] = labels_sample"
   ]
  },
  {
   "cell_type": "markdown",
   "metadata": {},
   "source": [
    "The class `SensitivitySampler` implements the sampling, given a query (i.e, the learning model itself, in this case).\n",
    "We only need to add the `get` method to our model since it is required by the class. \n",
    "We choose the sensitivity norm to be the $L_1$ norm and we apply the sampling. \n",
    "The value of the sensitivity depends on the number of samples `n`: the more samples we perform, the more accurate the sensitivity. \n",
    "Indeed, by increasing the number of samples `n`, the sensitivity decreases, as shown below:"
   ]
  },
  {
   "cell_type": "code",
   "execution_count": null,
   "metadata": {},
   "outputs": [],
   "source": [
    "from shfl.differential_privacy import SensitivitySampler\n",
    "from shfl.differential_privacy import L1SensitivityNorm\n",
    "\n",
    "class LinearRegression2DSample(LinearRegression2D):\n",
    "    \n",
    "    def get(self, data_array):\n",
    "        data = data_array[:, 0]\n",
    "        labels = data_array[:, 1]\n",
    "        train_model = self.train(data, labels)\n",
    "        \n",
    "        return np.asarray(self.get_model_params())\n",
    "\n",
    "distribution = UniformDistribution(sample_data)\n",
    "sampler = SensitivitySampler()\n",
    "\n",
    "n_samples = 10\n",
    "max_sensitivity, mean_sensitivity = sampler.sample_sensitivity(LinearRegression2DSample(), L1SensitivityNorm(), distribution, n=n_samples, gamma=0.05)\n",
    "print(\"Sampled max sensitivity: \" + str(max_sensitivity))\n",
    "print(\"Sampled mean sensitivity: \" + str(mean_sensitivity))"
   ]
  },
  {
   "cell_type": "code",
   "execution_count": null,
   "metadata": {},
   "outputs": [],
   "source": [
    "n_samples = 500\n",
    "max_sensitivity, mean_sensitivity = sampler.sample_sensitivity(LinearRegression2DSample(), L1SensitivityNorm(), distribution, n=n_samples, gamma=0.05)\n",
    "print(\"Sampled max sensitivity: \" + str(max_sensitivity))\n",
    "print(\"Sampled mean sensitivity: \" + str(mean_sensitivity))"
   ]
  },
  {
   "cell_type": "markdown",
   "metadata": {},
   "source": [
    "Unfortunately, sampling over a dataset involves the training of the model on two datasets differing in one entry, at each sample.\n",
    "Thus, in general, this procedure might be computationally expensive (e.g., in the case of training a deep neural network)."
   ]
  },
  {
   "cell_type": "markdown",
   "metadata": {},
   "source": [
    "### Run the federated learning experiment with differential privacy\n",
    "At this stage we are ready to add a layer of DP to our federated learning model. \n",
    "We will apply the Laplace mechanism, assuming the sensitivity of our model is that which was obtained from the previous sampling. \n",
    "The Laplace mechanism provided by the Sherpa.ai Federated Learning and Differential Privacy Framework is then assigned as the private access type to the model parameters of each client in a new `FederatedGovernment` object. \n",
    "This results in an $\\epsilon$-differentially private FL model.\n",
    "For example, by choosing the value $\\epsilon = 0.5$, we can run the FL experiment with DP:"
   ]
  },
  {
   "cell_type": "code",
   "execution_count": null,
   "metadata": {},
   "outputs": [],
   "source": [
    "from shfl.differential_privacy import LaplaceMechanism\n",
    "\n",
    "params_access_definition = LaplaceMechanism(sensitivity=max_sensitivity, epsilon=0.5)\n",
    "federated_governmentDP = shfl.federated_government.FederatedGovernment(\n",
    "    model_builder, federated_data, aggregator, model_params_access=params_access_definition)\n",
    "\n",
    "federated_governmentDP.run_rounds(n=1, test_data=test_data, test_label=test_labels)"
   ]
  },
  {
   "cell_type": "markdown",
   "metadata": {},
   "source": [
    "In the above example, we saw that the performance of the model deteriorated slightly, due to the addition of differential privacy. \n",
    "It must be noted that each run involves a different random noise added by the differential privacy mechanism.\n",
    "However, in general, privacy increases at the expense of accuracy (i.e., for smaller values of $\\epsilon$)."
   ]
  }
 ],
 "metadata": {
  "kernelspec": {
   "display_name": "Python 3",
   "language": "python",
   "name": "python3"
  },
  "language_info": {
   "codemirror_mode": {
    "name": "ipython",
    "version": 3
   },
   "file_extension": ".py",
   "mimetype": "text/x-python",
   "name": "python",
   "nbconvert_exporter": "python",
   "pygments_lexer": "ipython3",
   "version": "3.7.3"
  },
  "pycharm": {
   "stem_cell": {
    "cell_type": "raw",
    "metadata": {
     "collapsed": false
    },
    "source": []
   }
  }
 },
 "nbformat": 4,
 "nbformat_minor": 4
}
